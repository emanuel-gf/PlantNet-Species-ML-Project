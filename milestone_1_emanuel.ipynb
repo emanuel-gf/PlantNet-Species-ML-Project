{
 "cells": [
  {
   "cell_type": "markdown",
   "id": "805bb1e6",
   "metadata": {},
   "source": [
    "# GeoPlant Dataset\n",
    "\n",
    "GeoPlant is a large-scale, multimodal dataset for spatial plant species prediction across Europe, combining expert-verified species observations with rich environmental context\n",
    "\n",
    "The application domain for the dataset is mostly related with Ecological researchers, Biologists, Botanicts and also Machine Learning/ Remote Sensing Researcher. Due the broad scope of Environmental variables, it can be use for a range of professionals. \n",
    "\n",
    "As a target variable, the GeoPlant contains either Presence-Absence (PA) or Presence-Only (PO) survey polygons. \n",
    "\n",
    "## Presence-Absence (PA)\n",
    "\n",
    " - Survey inventory of all plants species in a given plot (10-400 m² ).\n",
    "\n",
    " - Source: 29 datasets hosted in the European Vegetation Archive (EVA)\n",
    "\n",
    " - 93,703 surveys across Europe with 5,016 plant species.\n",
    "\n",
    "## Environmental Variables | Features \n",
    "\n",
    "For each surveyId, a set of environmental variables is associated with it. The environmental variables are composed by 5 major datasets, they are:\n",
    "- Climatic Variables\n",
    "- Soil variables\n",
    "- Human Footprint\n",
    "- Elevation\n",
    "- Land Cover\n",
    "\n",
    "The GeoPlant dataset allow retrieving the environmental variables as a tabular data where the features are already extracted for each surveyId, which means that instead of dealing with huge raster datasets, the GeoPlant provides a tabular light-weighted version for end-users. \n",
    "\n",
    "### Climatic Variables:\n",
    " 19 climatic variables averaged over 1981-2010. \n",
    "\n",
    " They are: \n",
    " (Mean Annual Air Temp; Annual Precipitation Amount; Precipitation of the Driest Month; etc etc)\n",
    "\n",
    "#### Climatic - Temperature related variables \n",
    "| Code  | Description                                  | Unit   | Notes                                                                                     |\n",
    "|-------|----------------------------------------------|--------|-------------------------------------------------------------------------------------------|\n",
    "| bio1  | Mean annual air temperature                   | °C     | Mean annual daily mean air temperatures averaged over 1 year                             |\n",
    "| bio2  | Mean diurnal air temperature range            | °C     | Mean diurnal range of temperatures averaged over 1 year                                  |\n",
    "| bio3  | Isothermality                                 | °C     | Ratio of diurnal variation to annual variation in temperatures                           |\n",
    "| bio4  | Temperature seasonality                       | °C/100 | Standard deviation of the monthly mean temperatures                                      |\n",
    "| bio5  | Mean daily maximum air temperature of the warmest month | °C     | The highest temperature of any monthly daily mean maximum temperature                    |\n",
    "| bio6  | Mean daily minimum air temperature of the coldest month | °C     | The lowest temperature of any monthly daily mean minimum temperature                     |\n",
    "| bio7  | Annual range of air temperature               | °C     | The difference between the maximum temperature of warmest month and minimum temperature of coldest month |\n",
    "| bio8  | Mean daily mean air temperatures of the wettest quarter | °C     | The wettest quarter of the year is determined (to the nearest month)                     |\n",
    "| bio9  | Mean daily mean air temperatures of the driest quarter | °C     | The driest quarter of the year is determined (to the nearest month)                      |\n",
    "| bio10 | Mean daily mean air temperatures of the warmest quarter | °C     | The warmest quarter of the year is determined (to the nearest month)                     |\n",
    "| bio11 | Mean daily mean air temperatures of the coldest quarter | °C     | The coldest quarter of the year is determined (to the nearest month)                     |\n",
    "\n",
    "#### Climatic - Precipitation Related Variables \n",
    "\n",
    "\n",
    "| Col   | Description                              | Unit    | Time Unit | Notes                                                                                     |\n",
    "|--------|------------------------------------------|---------|-----------|-------------------------------------------------------------------------------------------|\n",
    "| bio12  | Annual precipitation amount              | kg m⁻²  | year⁻¹    | Accumulated precipitation amount over 1 year                                            |\n",
    "| bio13  | Precipitation amount of the wettest month | kg m⁻²  | month⁻¹   | The precipitation of the wettest month                                                  |\n",
    "| bio14  | Precipitation amount of the driest month | kg m⁻²  | month⁻¹   | The precipitation of the driest month                                                   |\n",
    "| bio15  | Precipitation seasonality                 | kg m⁻²  |           | The Coefficient of Variation is the standard deviation of the monthly precipitation estimates expressed as a percentage of the mean (annual mean) |\n",
    "| bio16  | Mean monthly precipitation amount of the wettest quarter | kg m⁻²  | month⁻¹   | The wettest quarter of the year is determined (to the nearest month)                    |\n",
    "| bio17  | Mean monthly precipitation amount of the driest quarter | kg m⁻²  | month⁻¹   | The driest quarter of the year is determined (to the nearest month)                     |\n",
    "| bio18  | Mean monthly precipitation amount of the warmest quarter | kg m⁻²  | month⁻¹   | The warmest quarter of the year is determined (to the nearest month)                    |\n",
    "| bio19  | Mean monthly precipitation amount of the coldest quarter | kg m⁻²  | month⁻¹   | The coldest quarter of the year is determined (to the nearest month)                    |\n",
    "\n",
    "### Land Cover \n",
    "\n",
    "Land Cover is retrieved from MODIS (Terra+Aqua) with a 500m resolution.  The LandCover is a discretized variable composed by classes from 1 to 17. \n",
    "\n",
    "| Land Cover Type                 | Code | Description                                                                                       |\n",
    "|-------------------------------|------|-------------------------------------------------------------------------------------------------|\n",
    "| Evergreen Needleleaf Forests   | 1    | Dominated by evergreen conifer trees (canopy >2m). Tree cover >60%.                              |\n",
    "| Evergreen Broadleaf Forests    | 2    | Dominated by evergreen broadleaf and palmate trees (canopy >2m). Tree cover >60%.                |\n",
    "| Deciduous Needleleaf Forests   | 3    | Dominated by deciduous needleleaf (larch) trees (canopy >2m). Tree cover >60%.                   |\n",
    "| Deciduous Broadleaf Forests    | 4    | Dominated by deciduous broadleaf trees (canopy >2m). Tree cover >60%.                            |\n",
    "| Mixed Forests                  | 5    | Dominated by neither deciduous nor evergreen (40-60% of each) tree type (canopy >2m). Tree cover >60%. |\n",
    "| Closed Shrublands              | 6    | Dominated by woody perennials (1-2m height) >60% cover.                                         |\n",
    "| Open Shrublands                | 7    | Dominated by woody perennials (1-2m height) 10-60% cover.                                       |\n",
    "| Woody Savannas                | 8    | Tree cover 30-60% (canopy >2m).                                                                 |\n",
    "| Savannas                      | 9    | Tree cover 10-30% (canopy >2m).                                                                 |\n",
    "| Grasslands                    | 10   | Dominated by herbaceous annuals (<2m).                                                          |\n",
    "| Permanent Wetlands            | 11   | Permanently inundated lands with 30-60% water cover and >10% vegetated cover.                    |\n",
    "| Croplands                    | 12   | At least 60% of area is cultivated cropland.                                                    |\n",
    "| Urban and Built-up Lands      | 13   | At least 30% impervious surface area including building materials, asphalt, and vehicles.       |\n",
    "| Cropland/Natural Vegetation Mosaics | 14 | Mosaics of small-scale cultivation 40-60% with natural tree, shrub, or herbaceous vegetation.    |\n",
    "| Permanent Snow and Ice         | 15   | At least 60% of area is covered by snow and ice for at least 10 months of the year.             |\n",
    "| Barren                        | 16   | At least 60% of area is non-vegetated barren (sand, rock, soil) areas with less than 10% vegetation. |\n",
    "| Water Bodies                  | 17   | At least 60% of area is covered by permanent water bodies.                                      |\n",
    "\n",
    "\n",
    "### Human Footprint \n",
    "\n",
    "This dataset is a study by Venter et Al. 2016 (Global terrestrial Human Footprint maps for 1993 and 2009), with 1km of spatial resolution and eight variables measuring the direct and indirect human pressures on the environment globally in 1993 and 2009. 1) built environments, 2) population density, 3) electric infrastructure, 4) crop lands, 5) pasture lands, 6) roads, 7) railways, and 8) navigable waterway\n",
    "\n",
    "| Variable                            | Meaning                         | Units                   | Interpretation                      |\n",
    "| ----------------------------------- | ------------------------------- | ----------------------- | ----------------------------------- |\n",
    "| **Built1994 / Built2009**           | Built-up area intensity         | 0–100                   | Higher = more urban development.    |\n",
    "| **Croplands1992 / Croplands2005**   | Cropland extent                 | 0–100                   | Higher = more agriculture.          |\n",
    "| **Lights1994 / Lights2009**         | Night-time light intensity      | 0–100                   | Proxy for human activity.           |\n",
    "| **Pasture1993 / Pasture2009**       | Pasture area                    | 0–100                   | Livestock pressure.                 |\n",
    "| **Popdensity1990 / Popdensity2010** | Population density              | people/km²              | High = more urban areas.            |\n",
    "| **Railways / Roads**                | Linear infrastructure density   | arbitrary (often 0–255) | More = greater fragmentation.       |\n",
    "| **HFP1993 / HFP2009**               | Composite Human Footprint Index | 0–50                    | Higher = more human pressure.       |\n",
    "| **NavWater1994 / NavWater2009**     | Navigable water accessibility   | arbitrary               | Higher = closer to water transport. |\n",
    "\n",
    "### Elevation\n",
    "Retrieved from Aster Global Digital Model V3 with 30m Resolution. \n",
    "\n",
    "### Soil Data \n",
    "Provided from SoilGrids, it has 1km of spatial resolution (aggretated from 250m). The features presented in this dataset are soil properties at 5-15cm depth, such as: pH, Clay; Organic Carbon; Nitrogen.\n",
    "\n",
    "######\n",
    "\n",
    "| Variable     | Meaning                  | Units    | Interpretation                                                                          |\n",
    "| ------------ | ------------------------ | -------- | --------------------------------------------------------------------------------------- |\n",
    "| **bdod**     | Bulk density of dry soil | kg/m³    | High values = compact soil, low porosity (less root growth). Low = loose, aerated soil. |\n",
    "| **cec**      | Cation exchange capacity | cmol/kg  | High = fertile soil (more nutrient retention). Low = poor nutrient retention.           |\n",
    "| **cfvo**     | Coarse fragment volume   | %        | High = many stones/rocks (less plant rooting area).                                     |\n",
    "| **clay**     | Clay fraction            | %        | High = fine-textured soil, retains water/nutrients but drains poorly.                   |\n",
    "| **nitrogen** | Total nitrogen content   | g/kg     | High = fertile soil, supports vegetation growth.                                        |\n",
    "| **phh2o**    | Soil pH in water         | pH units | 6–7 = optimal. <5 = acidic (bad), >8 = alkaline (bad).                                  |\n",
    "| **sand**     | Sand fraction            | %        | High = coarse, drains well but low nutrient retention.                                  |\n",
    "| **silt**     | Silt fraction            | %        | Medium texture — balanced soil (ideal around 40%).                                      |\n",
    "| **soc**      | Soil organic carbon      | g/kg     | High = healthy, fertile soil, better structure. Low = degraded soil.         \n"
   ]
  },
  {
   "cell_type": "code",
   "execution_count": null,
   "id": "b3ddc53a",
   "metadata": {},
   "outputs": [],
   "source": [
    "## Import libraries\n",
    "import pandas as pd\n",
    "import geopandas as gpd\n",
    "import matplotlib.pyplot as plt\n",
    "import seaborn as sns\n",
    "import numpy as np\n",
    "import cartopy.crs as ccrs\n",
    "import cartopy.feature as cfeature\n",
    "\n",
    "### Import the created function\n",
    "from src.utils import merge_metadata_data"
   ]
  },
  {
   "cell_type": "markdown",
   "id": "204c74e4",
   "metadata": {},
   "source": [
    "#### Loading the datasets.\n",
    "\n",
    "There are 4 datasets within this folder. They should be:\n",
    "- Train\n",
    "- Test\n",
    "- Train Metadata\n",
    "- Test Metadata "
   ]
  },
  {
   "cell_type": "code",
   "execution_count": null,
   "id": "7f14cb6f",
   "metadata": {},
   "outputs": [
    {
     "ename": "SyntaxError",
     "evalue": "invalid syntax (2291590974.py, line 1)",
     "output_type": "error",
     "traceback": [
      "  \u001b[36mCell\u001b[39m\u001b[36m \u001b[39m\u001b[32mIn[3]\u001b[39m\u001b[32m, line 1\u001b[39m\n\u001b[31m    \u001b[39m\u001b[31mtrain_path =\u001b[39m\n                 ^\n\u001b[31mSyntaxError\u001b[39m\u001b[31m:\u001b[39m invalid syntax\n"
     ]
    }
   ],
   "source": [
    "train_path = \"\"\n",
    "train_metadata_path = \"\"\n",
    "test_path = \"\"\n",
    "test_metadata_path = \"\""
   ]
  },
  {
   "cell_type": "code",
   "execution_count": 4,
   "id": "56b92440",
   "metadata": {},
   "outputs": [],
   "source": [
    "path_metadata = \"/mnt/d/desktop/COPERNICUS/Classes/3-semester/ml/species/output/train_metadata.parquet\"\n",
    "path_data = \"/mnt/d/desktop/COPERNICUS/Classes/3-semester/ml/species/output/train_join.parquet\"\n",
    "\n",
    "## Create the whole df\n",
    "df = merge_metadata_data(path_metadata,path_data)\n",
    "\n",
    "## drop non necessary columns \n",
    "df = df.drop(columns = ['year', 'geoUncertaintyInM', 'areaInM2','region', 'country'])\n",
    "df.set_index(\"surveyId\",inplace=True)\n",
    "## Drop non feature columns but preserve the df to map easily\n",
    "## since the order to the X index is the same order of the df.\n",
    "columns_to_drop = ['lon', 'lat', 'speciesId','predict']\n",
    "\n",
    "X = df.drop(columns=columns_to_drop)"
   ]
  },
  {
   "cell_type": "markdown",
   "id": "b8dc390e",
   "metadata": {},
   "source": [
    "### Describe Dataset"
   ]
  },
  {
   "cell_type": "code",
   "execution_count": 11,
   "id": "01c08822",
   "metadata": {},
   "outputs": [
    {
     "name": "stdout",
     "output_type": "stream",
     "text": [
      "<class 'pandas.core.frame.DataFrame'>\n",
      "Index: 13501 entries, 333 to 3918720\n",
      "Data columns (total 46 columns):\n",
      " #   Column                                   Non-Null Count  Dtype  \n",
      "---  ------                                   --------------  -----  \n",
      " 0   average_Bio1                             13501 non-null  int64  \n",
      " 1   average_Bio2                             13501 non-null  int64  \n",
      " 2   average_Bio3                             13501 non-null  int64  \n",
      " 3   average_Bio4                             13501 non-null  int64  \n",
      " 4   average_Bio5                             13501 non-null  int64  \n",
      " 5   average_Bio6                             13501 non-null  int64  \n",
      " 6   average_Bio7                             13501 non-null  int64  \n",
      " 7   average_Bio8                             13501 non-null  int64  \n",
      " 8   average_Bio9                             13501 non-null  int64  \n",
      " 9   average_Bio10                            13501 non-null  int64  \n",
      " 10  average_Bio11                            13501 non-null  int64  \n",
      " 11  average_Bio12                            13501 non-null  int64  \n",
      " 12  average_Bio13                            13501 non-null  int64  \n",
      " 13  average_Bio14                            13501 non-null  int64  \n",
      " 14  average_Bio15                            13501 non-null  int64  \n",
      " 15  average_Bio16                            13501 non-null  int64  \n",
      " 16  average_Bio17                            13501 non-null  int64  \n",
      " 17  average_Bio18                            13501 non-null  int64  \n",
      " 18  average_Bio19                            13501 non-null  int64  \n",
      " 19  elevation_Elevation                      13498 non-null  float64\n",
      " 20  footprint_HumanFootprint-Built1994       13501 non-null  float64\n",
      " 21  footprint_HumanFootprint-Built2009       13501 non-null  float64\n",
      " 22  footprint_HumanFootprint-croplands1992   13501 non-null  float64\n",
      " 23  footprint_HumanFootprint-croplands2005   13501 non-null  float64\n",
      " 24  footprint_HumanFootprint-Lights1994      13501 non-null  float64\n",
      " 25  footprint_HumanFootprint-Lights2009      13501 non-null  float64\n",
      " 26  footprint_HumanFootprint-NavWater1994    13169 non-null  float64\n",
      " 27  footprint_HumanFootprint-NavWater2009    13169 non-null  float64\n",
      " 28  footprint_HumanFootprint-Pasture1993     13501 non-null  float64\n",
      " 29  footprint_HumanFootprint-Pasture2009     13501 non-null  float64\n",
      " 30  footprint_HumanFootprint-Popdensity1990  13501 non-null  float64\n",
      " 31  footprint_HumanFootprint-Popdensity2010  13501 non-null  float64\n",
      " 32  footprint_HumanFootprint-Railways        13501 non-null  float64\n",
      " 33  footprint_HumanFootprint-Roads           13169 non-null  float64\n",
      " 34  footprint_HumanFootprint-HFP1993         13169 non-null  float64\n",
      " 35  footprint_HumanFootprint-HFP2009         13169 non-null  float64\n",
      " 36  landcover_LandCover                      13501 non-null  float64\n",
      " 37  soilgrids_Soilgrid-bdod                  12721 non-null  float64\n",
      " 38  soilgrids_Soilgrid-cec                   12558 non-null  float64\n",
      " 39  soilgrids_Soilgrid-cfvo                  12558 non-null  float64\n",
      " 40  soilgrids_Soilgrid-clay                  12558 non-null  float64\n",
      " 41  soilgrids_Soilgrid-nitrogen              12558 non-null  float64\n",
      " 42  soilgrids_Soilgrid-phh2o                 12558 non-null  float64\n",
      " 43  soilgrids_Soilgrid-sand                  12558 non-null  float64\n",
      " 44  soilgrids_Soilgrid-silt                  12558 non-null  float64\n",
      " 45  soilgrids_Soilgrid-soc                   12721 non-null  float64\n",
      "dtypes: float64(27), int64(19)\n",
      "memory usage: 4.8 MB\n"
     ]
    }
   ],
   "source": [
    "X.info(verbose=True, max_cols=49)"
   ]
  },
  {
   "cell_type": "markdown",
   "id": "9d8cc5ca",
   "metadata": {},
   "source": [
    "### Features \n",
    "\n",
    "The dataset is composed by only numerical features. However, not all the features represent quantitive variables. LandCover for instance is a categorical variable (qualitative).\n",
    "\n",
    "### Output\n",
    "\n",
    "The output is either 1 or 0, following a binary structure. It should be representing if the surveyId contains the target specie or not.\n",
    "\n",
    "The output is simple as the concatenation of the X with the df[\"predict\"], concatening by the surveyId. "
   ]
  },
  {
   "cell_type": "markdown",
   "id": "7ac09e5d",
   "metadata": {},
   "source": [
    "# Exploratory Data Analysis"
   ]
  },
  {
   "cell_type": "code",
   "execution_count": null,
   "id": "c1c14a85",
   "metadata": {},
   "outputs": [],
   "source": [
    "### plot here whole heat map \n",
    "\n",
    "\n",
    "## comment the heatmap\n",
    "Okay we observe likley correlta within the major dataset s bllabllba "
   ]
  },
  {
   "cell_type": "markdown",
   "id": "65bf2b53",
   "metadata": {},
   "source": [
    "### Climatic Variables\n",
    "\n",
    "Here we are observing the correlation of climatic variables first looking at the whole partial dataset and second spliting between macro aggregation: Temperature & Precipitation"
   ]
  },
  {
   "cell_type": "markdown",
   "id": "166edd07",
   "metadata": {},
   "source": [
    "### Soil Variables\n",
    "\n",
    "- correlation \n",
    "- distribution \n",
    "\n"
   ]
  },
  {
   "cell_type": "markdown",
   "id": "da993919",
   "metadata": {},
   "source": [
    "### LandUse\n",
    "\n",
    "It should have a distribution of each landuse class to show how unbalanced and the a commentary at the imbalanced of the classes."
   ]
  },
  {
   "cell_type": "markdown",
   "id": "1c0792f1",
   "metadata": {},
   "source": [
    "### Elevation"
   ]
  },
  {
   "cell_type": "markdown",
   "id": "4f6dd51d",
   "metadata": {},
   "source": [
    "### Human FootPrint"
   ]
  },
  {
   "cell_type": "markdown",
   "id": "a9463f32",
   "metadata": {},
   "source": [
    "## Pre-Processing\n",
    "\n",
    "- StandarScaler\n",
    "- OneHotEncoder\n",
    "\n",
    "Standardizing all features to be between zero and one. Normalization is gonna be for each column, so for each column we are subtracting the mean and dividing by the standard deviation.\n",
    "\n",
    "A caveat, for LandUse we are not applying the StandarScaler since it does not make sense, in this case, we are applying one hot encoder. \n",
    "\n",
    "\n",
    "\n",
    "### Outliers\n",
    "\n",
    "Considering the climatic variable and the variance of the landscape, we consider that there are no outiers regarding the climatic variables for two main reasons: The climatic are a average of 30 years of data and only looking trhough each surveyId does not represent an outier but it represents the variance of the clima towards the landscape. The same is applied for Soil data, there is no consider outlier within this dataset. \n",
    "\n",
    "For elevation, we are considering all elevation above 1500 meters as outliers. Due two main reasons: Starting from 1500 the oxygen starts to decrease significantly and affect tree growth. Due our specie be the most frequent specie in France, we assume that it is impossible the specie only be distributed above 1500m, which in our case of study, it should be defined as outlier. So, all altitude above will be replaced with the standard altitude of 1500m. \n",
    "So we are replacing all variables above 3 times the stardard desviation as the value be itself, which means that altitudes above 1200m are replaced by 1200 meters. \n",
    "\n",
    "LandUse is a qualitative variable and there is no variable however "
   ]
  },
  {
   "cell_type": "code",
   "execution_count": null,
   "id": "92a06ac3",
   "metadata": {},
   "outputs": [],
   "source": []
  },
  {
   "cell_type": "code",
   "execution_count": null,
   "id": "07810ba6",
   "metadata": {},
   "outputs": [],
   "source": []
  }
 ],
 "metadata": {
  "kernelspec": {
   "display_name": "species",
   "language": "python",
   "name": "python3"
  },
  "language_info": {
   "codemirror_mode": {
    "name": "ipython",
    "version": 3
   },
   "file_extension": ".py",
   "mimetype": "text/x-python",
   "name": "python",
   "nbconvert_exporter": "python",
   "pygments_lexer": "ipython3",
   "version": "3.13.7"
  }
 },
 "nbformat": 4,
 "nbformat_minor": 5
}
